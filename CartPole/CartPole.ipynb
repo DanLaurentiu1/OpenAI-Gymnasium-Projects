{
 "cells": [
  {
   "cell_type": "code",
   "execution_count": 1,
   "id": "7d34d41a",
   "metadata": {},
   "outputs": [],
   "source": [
    "import math\n",
    "import random\n",
    "import gym\n",
    "import numpy as np\n",
    "import torch\n",
    "import torch.nn as nn\n",
    "import torch.optim as optim\n",
    "import torch.nn.functional as F\n",
    "from torch.distributions import Normal, Categorical\n",
    "from IPython.display import clear_output\n",
    "import matplotlib.pyplot as plt\n",
    "from collections import deque"
   ]
  },
  {
   "cell_type": "markdown",
   "id": "cfcbd002",
   "metadata": {},
   "source": [
    "## Creating the environment"
   ]
  },
  {
   "cell_type": "code",
   "execution_count": 2,
   "id": "faa52929",
   "metadata": {},
   "outputs": [
    {
     "name": "stderr",
     "output_type": "stream",
     "text": [
      "C:\\Users\\Lau\\miniconda3\\envs\\rlProjects3.7\\lib\\site-packages\\gym\\envs\\registration.py:594: UserWarning: \u001b[33mWARN: The environment CartPole-v0 is out of date. You should consider upgrading to version `v1`.\u001b[0m\n",
      "  f\"The environment {id} is out of date. You should consider \"\n",
      "C:\\Users\\Lau\\miniconda3\\envs\\rlProjects3.7\\lib\\site-packages\\gym\\core.py:318: DeprecationWarning: \u001b[33mWARN: Initializing wrapper in old step API which returns one bool instead of two. It is recommended to set `new_step_api=True` to use new step API. This will be the default behaviour in future.\u001b[0m\n",
      "  \"Initializing wrapper in old step API which returns one bool instead of two. It is recommended to set `new_step_api=True` to use new step API. This will be the default behaviour in future.\"\n",
      "C:\\Users\\Lau\\miniconda3\\envs\\rlProjects3.7\\lib\\site-packages\\gym\\wrappers\\step_api_compatibility.py:40: DeprecationWarning: \u001b[33mWARN: Initializing environment in old step API which returns one bool instead of two. It is recommended to set `new_step_api=True` to use new step API. This will be the default behaviour in future.\u001b[0m\n",
      "  \"Initializing environment in old step API which returns one bool instead of two. It is recommended to set `new_step_api=True` to use new step API. This will be the default behaviour in future.\"\n"
     ]
    }
   ],
   "source": [
    "env_name = 'CartPole-v0'\n",
    "env = gym.make(env_name)"
   ]
  },
  {
   "cell_type": "markdown",
   "id": "43b8f7e9",
   "metadata": {},
   "source": [
    "## Creating the neural network"
   ]
  },
  {
   "cell_type": "code",
   "execution_count": 3,
   "id": "e7a71a6c",
   "metadata": {},
   "outputs": [],
   "source": [
    "class QNet(nn.Module):\n",
    "    def __init__(self, action_num=2, hidden_size=256):\n",
    "        super(QNet, self).__init__()\n",
    "        self.fc1 = nn.Linear(4, hidden_size)\n",
    "        self.fc2 = nn.Linear(hidden_size, action_num)\n",
    "\n",
    "    def forward(self, x):\n",
    "        x = F.relu(self.fc1(x))\n",
    "        q_values = self.fc2(x)\n",
    "        return q_values"
   ]
  },
  {
   "cell_type": "markdown",
   "id": "e20b02ed",
   "metadata": {},
   "source": [
    "## Creating the replay buffer"
   ]
  },
  {
   "cell_type": "code",
   "execution_count": 4,
   "id": "5368cb1d",
   "metadata": {},
   "outputs": [],
   "source": [
    "class ReplayBuffer:\n",
    "    def __init__(self, data_names, buffer_size, mini_batch_size):\n",
    "        self.data_keys = data_names\n",
    "        self.data_dict = {}\n",
    "        self.buffer_size = buffer_size\n",
    "        self.mini_batch_size = mini_batch_size\n",
    "        self.reset()\n",
    "\n",
    "    def reset(self):\n",
    "        # create a deque for each data type with set max length\n",
    "        for name in self.data_keys:\n",
    "            self.data_dict[name] = deque(maxlen=self.buffer_size)\n",
    "\n",
    "    def buffer_full(self):\n",
    "        return len(self.data_dict[self.data_keys[0]]) == self.buffer_size\n",
    "\n",
    "    def data_log(self, data_name, data):\n",
    "        # split tensor along batch into a list of individual datapoints\n",
    "        data = data.cpu().split(1)\n",
    "        \n",
    "        # extend the deque for data type, deque will handle popping old data to maintain buffer size\n",
    "        self.data_dict[data_name].extend(data)\n",
    "\n",
    "    def __iter__(self):\n",
    "        # length of the data_dict\n",
    "        batch_size = len(self.data_dict[self.data_keys[0]])\n",
    "        \n",
    "        # if that length is not divisible by mini_batch_size, subtract from it until it is\n",
    "        batch_size = batch_size - batch_size % self.mini_batch_size\n",
    "\n",
    "        # create batch_size number of ids and shuffle them\n",
    "        ids = np.random.permutation(batch_size)\n",
    "        \n",
    "        # split the ids into mini batches\n",
    "        ids = np.split(ids, batch_size // self.mini_batch_size)\n",
    "        \n",
    "        # for every id in every batch, make a batch_dict out of it (looks like data_dict)\n",
    "        # and return it as a generator\n",
    "        for i in range(len(ids)):\n",
    "            batch_dict = {}\n",
    "            for name in self.data_keys:\n",
    "                c = [self.data_dict[name][j] for j in ids[i]]\n",
    "                batch_dict[name] = torch.cat(c)\n",
    "            batch_dict[\"batch_size\"] = len(ids[i])\n",
    "            yield batch_dict\n",
    "\n",
    "    def __len__(self):\n",
    "        return len(self.data_dict[self.data_keys[0]])"
   ]
  },
  {
   "cell_type": "markdown",
   "id": "a91182f7",
   "metadata": {},
   "source": [
    "## Testing the agent -> used for plotting the mean values"
   ]
  },
  {
   "cell_type": "code",
   "execution_count": 5,
   "id": "e15a8cfe",
   "metadata": {},
   "outputs": [],
   "source": [
    "def test_agent():\n",
    "    done = False\n",
    "    total_reward = 0\n",
    "    observation = torch.FloatTensor(env.reset()).unsqueeze(0)\n",
    "\n",
    "    with torch.no_grad():\n",
    "        while not done:\n",
    "            # getting the q-values\n",
    "            q_values = q_net(observation)\n",
    "            \n",
    "            # getting the most optimal q-value  \n",
    "            action = q_values.argmax().cpu().item()\n",
    "            \n",
    "            # step\n",
    "            observation, reward, done, info = env.step(action)\n",
    "            \n",
    "            # transform next observation into a tensor\n",
    "            observation = torch.FloatTensor(observation).unsqueeze(0)\n",
    "            \n",
    "            # collect reward\n",
    "            total_reward += reward\n",
    "\n",
    "    return total_reward"
   ]
  },
  {
   "cell_type": "markdown",
   "id": "2e41f60a",
   "metadata": {},
   "source": [
    "## Training the neural network"
   ]
  },
  {
   "cell_type": "code",
   "execution_count": 6,
   "id": "a936f144",
   "metadata": {},
   "outputs": [],
   "source": [
    "def dqn_update():\n",
    "    for data_batch in replay_buffer:\n",
    "        next_q_values = q_net(data_batch[\"next_states\"]).detach()\n",
    "        q_values = q_net(data_batch[\"states\"])\n",
    "\n",
    "        index_q_values = q_values.gather(1, data_batch[\"actions\"])\n",
    "        max_next_q_values = next_q_values.max(1)[0].unsqueeze(1)\n",
    "        expected_q_value = data_batch[\"rewards\"] + GAMMA * max_next_q_values * data_batch[\"masks\"]\n",
    "\n",
    "        q_loss = (index_q_values - expected_q_value).pow(2).mean()\n",
    "\n",
    "        optimizer.zero_grad()\n",
    "        q_loss.backward()\n",
    "        optimizer.step()"
   ]
  },
  {
   "cell_type": "markdown",
   "id": "51333cd4",
   "metadata": {},
   "source": [
    "## Main"
   ]
  },
  {
   "cell_type": "code",
   "execution_count": 7,
   "id": "416fe277",
   "metadata": {},
   "outputs": [
    {
     "data": {
      "image/png": "[encoded data removed]",
      "text/plain": [
       "<Figure size 640x480 with 1 Axes>"
      ]
     },
     "metadata": {},
     "output_type": "display_data"
    }
   ],
   "source": [
    "LR = 1e-2\n",
    "GAMMA = 0.99\n",
    "BUFFER_SIZE = 2000\n",
    "MINI_BATCH_SIZE = 32\n",
    "MAX_STEPS = 20000\n",
    "DATA_NAMES = [\"states\", \"next_states\", \"actions\", \"rewards\", \"masks\"]\n",
    "ROLLOUTS = 0\n",
    "STEP = 0\n",
    "EPSILON = 1\n",
    "SCORE_LOGGER = []\n",
    "epsilon_values = []\n",
    "\n",
    "# initialize NN, optimizer and replay buffer\n",
    "q_net = QNet()\n",
    "optimizer = optim.Adam(q_net.parameters(), lr=LR)\n",
    "replay_buffer = ReplayBuffer(DATA_NAMES, BUFFER_SIZE, MINI_BATCH_SIZE)\n",
    "\n",
    "while STEP < MAX_STEPS:\n",
    "    observation = torch.FloatTensor(env.reset()).unsqueeze(0)\n",
    "    done = False\n",
    "\n",
    "    states = []\n",
    "    rewards = []\n",
    "    actions = []\n",
    "    masks = []\n",
    "    while not done:\n",
    "        states.append(observation)\n",
    "\n",
    "        # take most optimal action\n",
    "        if random.random() > EPSILON:\n",
    "            q_values = q_net(observation)\n",
    "            action = q_values.argmax().reshape(-1, 1)\n",
    "        # take random action\n",
    "        else:\n",
    "            action = torch.LongTensor([env.action_space.sample()]).reshape(-1, 1)\n",
    "\n",
    "        # step\n",
    "        observation, reward, done, info = env.step(action.cpu().item())\n",
    "\n",
    "        # transforming reward into a tensor\n",
    "        reward = torch.FloatTensor([reward]).unsqueeze(0)\n",
    "        \n",
    "        rewards.append(reward)\n",
    "        actions.append(action)\n",
    "        masks.append(torch.FloatTensor([1 - done]).unsqueeze(0))\n",
    "\n",
    "        # transforming observation into a tensor\n",
    "        observation = torch.FloatTensor(observation).unsqueeze(0)\n",
    "        STEP += 1\n",
    "\n",
    "    states.append(observation)\n",
    "    \n",
    "    # append to the replay buffer\n",
    "    replay_buffer.data_log(\"states\", torch.cat(states[:-1]))\n",
    "    replay_buffer.data_log(\"next_states\", torch.cat(states[1:]))\n",
    "    replay_buffer.data_log(\"rewards\", torch.cat(rewards))\n",
    "    replay_buffer.data_log(\"actions\", torch.cat(actions))\n",
    "    replay_buffer.data_log(\"masks\", torch.cat(masks))\n",
    "    \n",
    "    # if the buffer is full -> flush\n",
    "    if replay_buffer.buffer_full():\n",
    "        dqn_update()\n",
    "\n",
    "        if ROLLOUTS % 2 == 0:\n",
    "            new_lr = max(1e-4, ((MAX_STEPS - STEP) / MAX_STEPS) * LR)\n",
    "            epsilon_values.append(EPSILON)\n",
    "            EPSILON = max(0, ((MAX_STEPS - STEP) / MAX_STEPS) * 1)\n",
    "                    \n",
    "            # log scores from the simulation\n",
    "            SCORE_LOGGER.append(np.mean([test_agent() for _ in range(25)]))\n",
    "\n",
    "            # update adam lr\n",
    "            optimizer.param_groups[0][\"lr\"] = new_lr\n",
    "            \n",
    "    ROLLOUTS += 1\n",
    "\n",
    "env.close()\n",
    "plt.xlabel(\"Episodes\")\n",
    "plt.ylabel(\"Reward\")\n",
    "plt.plot(SCORE_LOGGER, color=\"orange\", label=\"learning rate\")\n",
    "plt.legend(loc=\"lower right\")\n",
    "plt.savefig(\"resources\\\\learning_curve.png\")\n",
    "\n",
    "plt.clf()\n",
    "plt.xlabel(\"Epsilon Value\")\n",
    "plt.ylabel(\"Episodes\")\n",
    "plt.plot(epsilon_values, color=\"orange\", label=\"epsilon decay\")\n",
    "plt.legend(loc=\"upper right\")\n",
    "plt.savefig(\"resources\\\\epsilon_decay.png\")"
   ]
  }
 ],
 "metadata": {
  "kernelspec": {
   "display_name": "Python 3 (ipykernel)",
   "language": "python",
   "name": "python3"
  },
  "language_info": {
   "codemirror_mode": {
    "name": "ipython",
    "version": 3
   },
   "file_extension": ".py",
   "mimetype": "text/x-python",
   "name": "python",
   "nbconvert_exporter": "python",
   "pygments_lexer": "ipython3",
   "version": "3.7.1"
  }
 },
 "nbformat": 4,
 "nbformat_minor": 5
}
